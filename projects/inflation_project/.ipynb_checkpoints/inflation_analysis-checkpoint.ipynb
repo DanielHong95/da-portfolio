{
 "cells": [
  {
   "cell_type": "markdown",
   "id": "ea8db792",
   "metadata": {},
   "source": [
    "# Inflation and Corporate Profits"
   ]
  },
  {
   "cell_type": "markdown",
   "id": "a710ff0c",
   "metadata": {},
   "source": [
    "### Set Up Environment"
   ]
  },
  {
   "cell_type": "code",
   "execution_count": null,
   "id": "682af295",
   "metadata": {},
   "outputs": [],
   "source": [
    "#Imports\n",
    "import pandas as pd\n",
    "import numpy as np\n",
    "import seaborn as sns\n",
    "import matplotlib\n",
    "import matplotlib.pyplot as plt\n",
    "import plotly.express as px\n",
    "import plotly.graph_objects as go\n",
    "from plotly.subplots import make_subplots\n",
    "import time\n",
    "from fredapi import Fred\n",
    "import pyodbc\n",
    "from sqlalchemy import create_engine\n",
    "from mpl_toolkits.mplot3d import Axes3D\n",
    "from sklearn.linear_model import LinearRegression\n",
    "\n",
    "##plot styles\n",
    "plt.style.use('fivethirtyeight')\n",
    "pd.set_option('max_columns', 500)\n",
    "color_pal = plt.rcParams['axes.prop_cycle'].by_key()['color']\n",
    "matplotlib.rcParams['figure.figsize'] = (12, 8)"
   ]
  },
  {
   "cell_type": "code",
   "execution_count": null,
   "id": "a1552c43",
   "metadata": {
    "hide_input": true,
    "tags": [
     "hide_input"
    ]
   },
   "outputs": [],
   "source": [
    "#Connections\n",
    "fred_key = '041a29909d1c85d5241bfe1c2eeba2a8'\n",
    "#export to sql\n",
    "connection_string = 'DRIVER={SQL Server};SERVER=DESKTOP-SHVFG6K\\SQLEXPRESS;DATABASE=inflation_project;Trusted_Connection=yes;'\n",
    "engine = create_engine(f\"mssql+pyodbc:///?odbc_connect={connection_string}\")\n",
    "#import from sql\n",
    "conn = pyodbc.connect(\n",
    "    \"Driver={SQL Server};\"\n",
    "    \"Server=DESKTOP-SHVFG6K\\SQLEXPRESS;\"\n",
    "    \"Database=inflation_project;\"\n",
    "    \"Trusted_Connection=yes;\"\n",
    ")"
   ]
  },
  {
   "cell_type": "markdown",
   "id": "9dce1d11",
   "metadata": {},
   "source": [
    "### Create FRED Object"
   ]
  },
  {
   "cell_type": "code",
   "execution_count": null,
   "id": "8534ff13",
   "metadata": {},
   "outputs": [],
   "source": [
    "fred = Fred(api_key = fred_key)"
   ]
  },
  {
   "cell_type": "markdown",
   "id": "f5ab56e0",
   "metadata": {},
   "source": [
    "## Search FRED for Corporate Profits Data"
   ]
  },
  {
   "cell_type": "code",
   "execution_count": null,
   "id": "1b5e2fa3",
   "metadata": {},
   "outputs": [],
   "source": [
    "fred.search('Corporate Profits', order_by='popularity')"
   ]
  },
  {
   "cell_type": "markdown",
   "id": "f22f2554",
   "metadata": {},
   "source": [
    "### Corporate Profits After Tax (without IVA and CCAdj)"
   ]
  },
  {
   "cell_type": "code",
   "execution_count": null,
   "id": "f985b267",
   "metadata": {},
   "outputs": [],
   "source": [
    "# create corporate profits datafram\n",
    "corp_profits = fred.get_series(series_id = 'CP')\n",
    "corp_profits_df = pd.DataFrame(corp_profits, columns=['corp_profits_billions'])\n",
    "corp_profits_df = corp_profits_df.reset_index()\n",
    "corp_profits_df = corp_profits_df.rename(columns={'index': 'Date'})\n",
    "corp_profits_df"
   ]
  },
  {
   "cell_type": "code",
   "execution_count": null,
   "id": "8e20b192",
   "metadata": {},
   "outputs": [],
   "source": [
    "# Export corporate profits data to mssql\n",
    "\n",
    "# corp_profits_df.to_sql('corp_profits', engine, index=False, if_exists='replace')\n",
    "# engine.dispose()"
   ]
  },
  {
   "cell_type": "code",
   "execution_count": null,
   "id": "b0bbbc81",
   "metadata": {},
   "outputs": [],
   "source": [
    "plt.title(\"Corporate Profits After Tax\")\n",
    "plt.xlabel(\"Date\")\n",
    "plt.ylabel(\"Billions of Dollars\")\n",
    "corp_profits.plot(figsize=(10, 5))"
   ]
  },
  {
   "cell_type": "markdown",
   "id": "f85af2d3",
   "metadata": {},
   "source": [
    "## Search FRED for CPI Data"
   ]
  },
  {
   "cell_type": "code",
   "execution_count": null,
   "id": "657773f8",
   "metadata": {},
   "outputs": [],
   "source": [
    "fred.search('Consumer Price Index for All Urban Consumers', order_by = 'popularity')"
   ]
  },
  {
   "cell_type": "markdown",
   "id": "5195a409",
   "metadata": {},
   "source": [
    "###  Consumer Price Index for All Urban Consumers: All Items in U.S. City Average"
   ]
  },
  {
   "cell_type": "code",
   "execution_count": null,
   "id": "4ff680d3",
   "metadata": {},
   "outputs": [],
   "source": [
    "# create cpi all data\n",
    "cpi_all = fred.get_series(series_id = 'CPIAUCSL')\n",
    "cpi_all_df = pd.DataFrame(cpi_all, columns=['CPI_all'])\n",
    "cpi_all_df = cpi_all_df.reset_index()\n",
    "cpi_all_df = cpi_all_df.rename(columns={'index': 'Date'})\n",
    "cpi_all_df"
   ]
  },
  {
   "cell_type": "code",
   "execution_count": null,
   "id": "8089711a",
   "metadata": {},
   "outputs": [],
   "source": [
    "# Export cpi all data to mssql\n",
    "# cpi_all_df.to_sql('cpi_all', engine, index=False, if_exists='replace')\n",
    "# engine.dispose()"
   ]
  },
  {
   "cell_type": "code",
   "execution_count": null,
   "id": "4395a195",
   "metadata": {},
   "outputs": [],
   "source": [
    "plt.title(\"CPI Total\")\n",
    "plt.xlabel(\"Date\")\n",
    "plt.ylabel(\"Index\")\n",
    "cpi_all.plot(figsize=(10, 5))"
   ]
  },
  {
   "cell_type": "markdown",
   "id": "1fd9c48b",
   "metadata": {},
   "source": [
    "###  Consumer Price Index for All Urban Consumers: Gasoline (All Types) in U.S. City Average"
   ]
  },
  {
   "cell_type": "code",
   "execution_count": null,
   "id": "494115a4",
   "metadata": {},
   "outputs": [],
   "source": [
    "# create gas cpi dataframe\n",
    "cpi_gas = fred.get_series(series_id = 'CUSR0000SETB01')\n",
    "cpi_gas_df = pd.DataFrame(cpi_gas, columns=['CPI_gas'])\n",
    "cpi_gas_df = cpi_gas_df.reset_index()\n",
    "cpi_gas_df = cpi_gas_df.rename(columns={'index': 'Date'})\n",
    "cpi_gas_df"
   ]
  },
  {
   "cell_type": "code",
   "execution_count": null,
   "id": "feae7e5f",
   "metadata": {},
   "outputs": [],
   "source": [
    "# Export cpi gas data to mssql\n",
    "# cpi_gas_df.to_sql('cpi_gas', engine, index=False, if_exists='replace')\n",
    "# engine.dispose()"
   ]
  },
  {
   "cell_type": "code",
   "execution_count": null,
   "id": "3a6254b5",
   "metadata": {},
   "outputs": [],
   "source": [
    "plt.title(\"CPI Gas\")\n",
    "plt.xlabel(\"Date\")\n",
    "plt.ylabel(\"Index\")\n",
    "cpi_gas.plot(figsize=(10, 5))"
   ]
  },
  {
   "cell_type": "markdown",
   "id": "46af3ad9",
   "metadata": {},
   "source": [
    "### Consumer Price Index for All Urban Consumers: Meats, Poultry, Fish, and Eggs in U.S. City Average"
   ]
  },
  {
   "cell_type": "code",
   "execution_count": null,
   "id": "14a4b759",
   "metadata": {},
   "outputs": [],
   "source": [
    "# Create CPI meats, poultry, fish and eggs dataframe\n",
    "cpi_meats_poultry_fish_eggs = fred.get_series(series_id = 'CUSR0000SETB01')\n",
    "cpi_meats_poultry_fish_eggs_df = pd.DataFrame(cpi_meats_poultry_fish_eggs, columns=['CPI_mpfe'])\n",
    "cpi_meats_poultry_fish_eggs_df = cpi_meats_poultry_fish_eggs_df.reset_index()\n",
    "cpi_meats_poultry_fish_eggs_df = cpi_meats_poultry_fish_eggs_df.rename(columns={'index': 'Date'})\n",
    "cpi_meats_poultry_fish_eggs_df"
   ]
  },
  {
   "cell_type": "code",
   "execution_count": null,
   "id": "1ac48e08",
   "metadata": {},
   "outputs": [],
   "source": [
    "# cpi_meats_poultry_fish_eggs_df.to_sql('cpi_meats_poultry_fish_eggs', engine, index=False, if_exists='replace', method='multi')\n",
    "# engine.dispose()"
   ]
  },
  {
   "cell_type": "code",
   "execution_count": null,
   "id": "72921e33",
   "metadata": {},
   "outputs": [],
   "source": [
    "plt.title(\"CPI Meats, Poultry, Fish, Eggs\")\n",
    "plt.xlabel(\"Date\")\n",
    "plt.ylabel(\"Index\")\n",
    "cpi_meats_poultry_fish_eggs.plot(figsize=(10, 5))"
   ]
  },
  {
   "cell_type": "markdown",
   "id": "bd6bd987",
   "metadata": {},
   "source": [
    "## Comparisons"
   ]
  },
  {
   "cell_type": "code",
   "execution_count": null,
   "id": "19d5a0eb",
   "metadata": {},
   "outputs": [],
   "source": [
    "# get merged table from mssql\n",
    "query = \"SELECT * FROM inflation_data\"\n",
    "inflation_data_df = pd.read_sql(query, conn)\n",
    "conn.close()\n",
    "inflation_data_df.head()"
   ]
  },
  {
   "cell_type": "code",
   "execution_count": null,
   "id": "62852221",
   "metadata": {},
   "outputs": [],
   "source": [
    "# correlation between metrics\n",
    "correlation_matrix = inflation_data_df.corr(method= 'pearson')\n",
    "sns.heatmap(correlation_matrix, annot=True)\n",
    "plt.title('Correlation Matrix')\n",
    "plt.show()"
   ]
  },
  {
   "cell_type": "markdown",
   "id": "fdbcf0c8",
   "metadata": {},
   "source": [
    "### Compare Total CPI vs Corporate Profits"
   ]
  },
  {
   "cell_type": "code",
   "execution_count": null,
   "id": "8cefce04",
   "metadata": {},
   "outputs": [],
   "source": [
    "corp_profits_filtered = corp_profits_df[(corp_profits_df['Date'] >= '2020') & (corp_profits_df['Date'] <= '2023')]\n",
    "cpi_all_filtered = cpi_all_df[(cpi_all_df['Date'] >= '2020') & (cpi_all_df['Date'] <= '2023')]\n",
    "\n",
    "fig = px.line()\n",
    "\n",
    "fig.add_trace(go.Scatter(x=corp_profits_filtered['Date'], y=corp_profits_filtered['corp_profits_billions'], name='Corporate Profits'))\n",
    "fig.add_trace(go.Scatter(x=cpi_all_filtered['Date'], y=cpi_all_filtered['CPI_all'], name='Total CPI', yaxis='y2'))\n",
    "\n",
    "fig.update_layout(yaxis=dict(title='Billions of Dollars'), yaxis2=dict(title='Index', side='right', overlaying='y'), legend=dict(yanchor=\"top\", y=0.99, xanchor=\"left\", x=0.01))\n",
    "\n",
    "fig.update_yaxes(range=[corp_profits_filtered['corp_profits_billions'].min(), corp_profits_filtered['corp_profits_billions'].max()], secondary_y=False)\n",
    "\n",
    "fig.update_yaxes(range=[cpi_all_filtered['CPI_all'].min(), cpi_all_filtered['CPI_all'].max()], secondary_y=True)\n",
    "fig.update_layout(title='Corporate Profits vs Total CPI', xaxis_title='Date')\n",
    "\n",
    "fig.show()\n"
   ]
  },
  {
   "cell_type": "code",
   "execution_count": null,
   "id": "f16f1299",
   "metadata": {},
   "outputs": [],
   "source": [
    "merged_df = corp_profits_filtered.merge(cpi_all_filtered, on='Date')\n",
    "sns.regplot(y=merged_df['corp_profits_billions'], x=merged_df['CPI_all'], scatter_kws={'color': 'red'}, line_kws={'color': 'blue'})\n",
    "\n",
    "plt.title('Regression Plot - Total CPI vs Corporate Profits')\n",
    "plt.ylabel('Billions of Dollars')\n",
    "plt.xlabel('Index')\n",
    "\n",
    "plt.show()"
   ]
  },
  {
   "cell_type": "markdown",
   "id": "bef1dad3",
   "metadata": {},
   "source": [
    "### Compare CPI of Gas, Average Price of Gas per Gallon, and Exxon Mobil Profits"
   ]
  },
  {
   "cell_type": "code",
   "execution_count": null,
   "id": "0d80831b",
   "metadata": {},
   "outputs": [],
   "source": [
    "fig = make_subplots(rows=2, cols=1, shared_xaxes=True)\n",
    "\n",
    "cpi_gas_filtered = inflation_data_df[(inflation_data_df['Date'] >= '2020') & (inflation_data_df['Date'] <= '2023')]\n",
    "gas_price_filtered = inflation_data_df[(inflation_data_df['Date'] >= '2020') & (inflation_data_df['Date'] <= '2023')]\n",
    "xom_filtered = inflation_data_df[(inflation_data_df['Date'] >= '2020') & (inflation_data_df['Date'] <= '2023')]\n",
    "xom_filtered = xom_filtered.dropna(subset=['XOM_gross_profits_millions'])\n",
    "\n",
    "fig = px.line()\n",
    "fig.add_trace(go.Scatter(x=cpi_gas_filtered['Date'], y=cpi_gas_filtered['CPI_gas'], name='CPI Gas'))\n",
    "fig.add_trace(go.Scatter(x=gas_price_filtered['Date'], y=gas_price_filtered['avg_price_gas_gallon'], name='Average Price per Gallon', yaxis='y2'))\n",
    "fig.add_trace(go.Scatter(x=xom_filtered['Date'], y=xom_filtered['XOM_gross_profits_millions'], name='Exxon Mobil Gross Profits', yaxis='y3'))\n",
    "\n",
    "fig.update_layout(xaxis=dict(domain=[0, 0.92]),\n",
    "                  yaxis=dict(title='Index'), \n",
    "                  yaxis2=dict(title='Price (Dollars)', side='right', overlaying='y', anchor='x'), \n",
    "                  yaxis3=dict(title='Millions of Dollars', side='right', overlaying='y', position=1), \n",
    "                  legend=dict(yanchor=\"top\", y=0.99, xanchor=\"left\", x=0.01))\n",
    "fig.update_yaxes(range=[cpi_gas_filtered['CPI_gas'].min(), cpi_gas_filtered['CPI_gas'].max()], secondary_y=False)\n",
    "fig.update_yaxes(range=[gas_price_filtered['avg_price_gas_gallon'].min(), gas_price_filtered['avg_price_gas_gallon'].max()], secondary_y=True)\n",
    "fig.update_yaxes(range=[xom_filtered['XOM_gross_profits_millions'].min(), xom_filtered['XOM_gross_profits_millions'].max()], secondary_y=True)\n",
    "fig.update_layout(title='CPI Gas vs Average Price of Gas per Gallon vs Exxon Mobil Gross Profits', xaxis_title='Date')\n",
    "\n",
    "fig.show()"
   ]
  },
  {
   "cell_type": "code",
   "execution_count": null,
   "id": "f29f08e5",
   "metadata": {},
   "outputs": [],
   "source": [
    "selected_columns = ['CPI_gas', 'avg_price_gas_gallon', 'XOM_gross_profits_millions']\n",
    "subset_df = inflation_data_df[selected_columns]\n",
    "correlation_matrix = subset_df.corr(method= 'pearson')\n",
    "sns.heatmap(correlation_matrix, annot=True)\n",
    "plt.title('Correlation Matrix - Gasoline')\n",
    "plt.show()"
   ]
  },
  {
   "cell_type": "code",
   "execution_count": null,
   "id": "1f3ce486",
   "metadata": {},
   "outputs": [],
   "source": [
    "sns.regplot(x=inflation_data_df['avg_price_gas_gallon'], y=inflation_data_df['XOM_gross_profits_millions'], scatter_kws={'color': 'red'}, line_kws={'color': 'blue'})\n",
    "\n",
    "plt.title('Regression Plot - Exxon Mobil Gross Profits vs Average Price of Gas per Gallon')\n",
    "plt.xlabel('Price (Dollars)')\n",
    "plt.ylabel('Millions of Dollars')\n",
    "\n",
    "\n",
    "plt.show()"
   ]
  },
  {
   "cell_type": "code",
   "execution_count": null,
   "id": "94187ca0",
   "metadata": {},
   "outputs": [],
   "source": [
    "df = inflation_data_df\n",
    "df = df.dropna(subset=['XOM_gross_profits_millions'])\n",
    "\n",
    "# Extract the columns as numpy arrays\n",
    "CPI_gas = df['CPI_gas'].values\n",
    "avg_price_gas_gallon = df['avg_price_gas_gallon'].values\n",
    "XOM_gross_profits_millions = df['XOM_gross_profits_millions'].values\n",
    "\n",
    "# Prepare the feature matrix\n",
    "X = np.column_stack((CPI_gas, avg_price_gas_gallon))\n",
    "\n",
    "# Create an instance of the LinearRegression model\n",
    "model = LinearRegression()\n",
    "\n",
    "# Fit the model to the data\n",
    "model.fit(X, XOM_gross_profits_millions)\n",
    "\n",
    "# Obtain the coefficients and intercept\n",
    "coefficients = model.coef_\n",
    "intercept = model.intercept_\n",
    "\n",
    "# Create a meshgrid for the features\n",
    "CPI_gas_plot, avg_price_gas_gallon_plot = np.meshgrid(np.linspace(CPI_gas.min(), CPI_gas.max(), 20),\n",
    "                                                     np.linspace(avg_price_gas_gallon.min(), avg_price_gas_gallon.max(), 20))\n",
    "\n",
    "# Predict the target variable for the meshgrid points\n",
    "X_plot = np.column_stack((CPI_gas_plot.ravel(), avg_price_gas_gallon_plot.ravel()))\n",
    "XOM_gross_profits_millions_plot = model.predict(X_plot)\n",
    "\n",
    "# Create a 3D plot\n",
    "fig = plt.figure()\n",
    "ax = fig.add_subplot(111, projection='3d')\n",
    "ax.scatter(CPI_gas, avg_price_gas_gallon, XOM_gross_profits_millions, color='blue', label='Data')\n",
    "\n",
    "tri = ax.plot_trisurf(CPI_gas, avg_price_gas_gallon, XOM_gross_profits_millions, cmap='viridis', alpha=0.5)\n",
    "tri.set_edgecolor('k')\n",
    "\n",
    "ax.set_xlabel('CPI Gas')\n",
    "ax.set_ylabel('Average Price (Dollars)')\n",
    "ax.set_zlabel('Exxon Mobil Gross Profits (Millions)')\n",
    "plt.show()"
   ]
  },
  {
   "cell_type": "markdown",
   "id": "f2c3db41",
   "metadata": {},
   "source": [
    "### Compare CPI of Meats, Poultry, Fish and Eggs, Average Price of Eggs per Dozen, and Cal-Maine Foods Profits"
   ]
  },
  {
   "cell_type": "code",
   "execution_count": null,
   "id": "d883eb27",
   "metadata": {},
   "outputs": [],
   "source": [
    "fig = make_subplots(rows=2, cols=1, shared_xaxes=True)\n",
    "\n",
    "cpi_mpfe_filtered = inflation_data_df[(inflation_data_df['Date'] >= '2020') & (inflation_data_df['Date'] <= '2023')]\n",
    "egg_price_filtered = inflation_data_df[(inflation_data_df['Date'] >= '2020') & (inflation_data_df['Date'] <= '2023')]\n",
    "calm_filtered = inflation_data_df[(inflation_data_df['Date'] >= '2020') & (inflation_data_df['Date'] <= '2023')]\n",
    "\n",
    "calm_filtered = calm_filtered.dropna(subset=['CALM_gross_profits_millions'])\n",
    "\n",
    "fig = px.line()\n",
    "\n",
    "fig.add_trace(go.Scatter(x=cpi_mpfe_filtered['Date'], y=cpi_mpfe_filtered['CPI_mpfe'], name='CPI Meats, Poulty, Fish, Eggs'))\n",
    "fig.add_trace(go.Scatter(x=egg_price_filtered['Date'], y=egg_price_filtered['avg_egg_price_dozen'], name='Average Price of Eggs per Dozen', yaxis='y2'))\n",
    "fig.add_trace(go.Scatter(x=calm_filtered['Date'], y=calm_filtered['CALM_gross_profits_millions'], name='Cal-Maine Foods Gross Profits', yaxis='y3'))\n",
    "\n",
    "fig.update_layout(xaxis=dict(domain=[0, 0.92]),\n",
    "                  yaxis=dict(title='Index'), \n",
    "                  yaxis2=dict(title='Price (Dollars)', side='right', overlaying='y', anchor='x'), \n",
    "                  yaxis3=dict(title='Millions of Dollars', side='right', overlaying='y', position=1), \n",
    "                  legend=dict(yanchor=\"top\", y=0.99, xanchor=\"left\", x=0.01))\n",
    "\n",
    "fig.update_yaxes(range=[cpi_mpfe_filtered['CPI_mpfe'].min(), cpi_mpfe_filtered['CPI_mpfe'].max()], secondary_y=False)\n",
    "fig.update_yaxes(range=[gas_price_filtered['avg_egg_price_dozen'].min(), gas_price_filtered['avg_egg_price_dozen'].max()], secondary_y=True)\n",
    "fig.update_yaxes(range=[xom_filtered['CALM_gross_profits_millions'].min(), xom_filtered['XOM_gross_profits_millions'].max()], secondary_y=True)\n",
    "\n",
    "fig.update_layout(title='CPI MFPE vs Average Price of Eggs per Dozen vs Cal-Maine Foods Gross Profits', xaxis_title='Date', width=800)\n",
    "\n",
    "fig.show()"
   ]
  },
  {
   "cell_type": "code",
   "execution_count": null,
   "id": "ecc60b37",
   "metadata": {},
   "outputs": [],
   "source": [
    "selected_columns = ['CPI_mpfe', 'avg_egg_price_dozen', 'CALM_gross_profits_millions']\n",
    "subset_df = inflation_data_df[selected_columns]\n",
    "correlation_matrix = subset_df.corr(method= 'pearson')\n",
    "sns.heatmap(correlation_matrix, annot=True)\n",
    "plt.title('Correlation Matrix - Eggs')\n",
    "plt.show()"
   ]
  },
  {
   "cell_type": "code",
   "execution_count": null,
   "id": "ed766f72",
   "metadata": {},
   "outputs": [],
   "source": [
    "sns.regplot(x=inflation_data_df['avg_egg_price_dozen'], y=inflation_data_df['CALM_gross_profits_millions'], scatter_kws={'color': 'red'}, line_kws={'color': 'blue'})\n",
    "\n",
    "plt.title('Regression Plot - Cal-Maine Foods Profits vs Price of Eggs per Dozen')\n",
    "plt.xlabel('Average Price of Eggs per Dozen')\n",
    "plt.ylabel('Millions of Dollars')\n",
    "\n",
    "\n",
    "plt.show()"
   ]
  },
  {
   "cell_type": "code",
   "execution_count": null,
   "id": "fe7f5a49",
   "metadata": {},
   "outputs": [],
   "source": [
    "df = inflation_data_df\n",
    "df = df.dropna(subset=['CALM_gross_profits_millions'])\n",
    "\n",
    "# Extract the columns as numpy arrays\n",
    "CPI_mpfe = df['CPI_mpfe'].values\n",
    "avg_egg_price_dozen = df['avg_egg_price_dozen'].values\n",
    "CALM_gross_profits_millions = df['CALM_gross_profits_millions'].values\n",
    "\n",
    "# Prepare the feature matrix\n",
    "X = np.column_stack((CPI_mpfe, avg_egg_price_dozen))\n",
    "\n",
    "# Create an instance of the LinearRegression model\n",
    "model = LinearRegression()\n",
    "\n",
    "# Fit the model to the data\n",
    "model.fit(X, CALM_gross_profits_millions)\n",
    "\n",
    "# Obtain the coefficients and intercept\n",
    "coefficients = model.coef_\n",
    "intercept = model.intercept_\n",
    "\n",
    "# Create a meshgrid for the features\n",
    "CPI_mpfe_plot, avg_egg_price_dozen_plot = np.meshgrid(np.linspace(CPI_mpfe.min(), CPI_mpfe.max(), 20),\n",
    "                                                     np.linspace(avg_egg_price_dozen.min(), avg_egg_price_dozen.max(), 20))\n",
    "\n",
    "# Predict the target variable for the meshgrid points\n",
    "X_plot = np.column_stack((CPI_mpfe_plot.ravel(), avg_egg_price_dozen_plot.ravel()))\n",
    "CALM_gross_profits_millions_plot = model.predict(X_plot)\n",
    "\n",
    "# Create a 3D plot\n",
    "fig = plt.figure()\n",
    "ax = fig.add_subplot(111, projection='3d')\n",
    "ax.scatter(CPI_gas, avg_price_gas_gallon, XOM_gross_profits_millions, color='blue', label='Data')\n",
    "\n",
    "tri = ax.plot_trisurf(CPI_mpfe, avg_egg_price_dozen, CALM_gross_profits_millions, cmap='viridis', alpha=0.5)\n",
    "tri.set_edgecolor('k')\n",
    "\n",
    "ax.set_xlabel('CPI MPFE')\n",
    "ax.set_ylabel('Average Price of Eggs per Dozen')\n",
    "ax.set_zlabel('Cal-Maine Foods Gross Profits')\n",
    "plt.show()"
   ]
  },
  {
   "cell_type": "code",
   "execution_count": null,
   "id": "37a5ca94",
   "metadata": {},
   "outputs": [],
   "source": []
  }
 ],
 "metadata": {
  "hide_input": false,
  "kernelspec": {
   "display_name": "Python 3 (ipykernel)",
   "language": "python",
   "name": "python3"
  },
  "language_info": {
   "codemirror_mode": {
    "name": "ipython",
    "version": 3
   },
   "file_extension": ".py",
   "mimetype": "text/x-python",
   "name": "python",
   "nbconvert_exporter": "python",
   "pygments_lexer": "ipython3",
   "version": "3.9.7"
  }
 },
 "nbformat": 4,
 "nbformat_minor": 5
}
