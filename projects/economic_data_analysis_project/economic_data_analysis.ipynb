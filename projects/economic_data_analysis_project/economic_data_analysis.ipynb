{
 "cells": [
  {
   "cell_type": "markdown",
   "id": "a23e7b4b",
   "metadata": {},
   "source": [
    "# Economic Data Analysis"
   ]
  },
  {
   "cell_type": "markdown",
   "id": "d9ee6e1c",
   "metadata": {},
   "source": [
    "## Imports"
   ]
  },
  {
   "cell_type": "code",
   "execution_count": null,
   "id": "dd166831-c43d-486b-8e3e-955fb6dcfac6",
   "metadata": {
    "hide_input": true
   },
   "outputs": [],
   "source": [
    "import os\n",
    "import pandas as pd\n",
    "import numpy as np\n",
    "import matplotlib.pyplot as plt\n",
    "import plotly.express as px\n",
    "import time\n",
    "from fredapi import Fred\n",
    "from dotenv import load_dotenv\n",
    "\n",
    "plt.style.use('fivethirtyeight')\n",
    "pd.set_option('max_columns', 500)\n",
    "color_pal = plt.rcParams['axes.prop_cycle'].by_key()['color']"
   ]
  },
  {
   "cell_type": "code",
   "execution_count": null,
   "id": "27f1923c",
   "metadata": {
    "hide_input": false
   },
   "outputs": [],
   "source": [
    "load_dotenv()\n",
    "fred_key = os.getenv('FRED_KEY')"
   ]
  },
  {
   "cell_type": "markdown",
   "id": "8646857c",
   "metadata": {},
   "source": [
    "## 1. Create FRED Object"
   ]
  },
  {
   "cell_type": "code",
   "execution_count": null,
   "id": "1b0396c9",
   "metadata": {},
   "outputs": [],
   "source": [
    "fred = Fred(api_key = fred_key)"
   ]
  },
  {
   "cell_type": "markdown",
   "id": "f04ba9ad",
   "metadata": {},
   "source": [
    "## 2. Search Economic Data"
   ]
  },
  {
   "cell_type": "code",
   "execution_count": null,
   "id": "4c72f7b4",
   "metadata": {},
   "outputs": [],
   "source": [
    "fred.search('S&P', order_by='popularity')"
   ]
  },
  {
   "cell_type": "markdown",
   "id": "e6030c17",
   "metadata": {},
   "source": [
    "## 2. Pull raw data & plot"
   ]
  },
  {
   "cell_type": "code",
   "execution_count": null,
   "id": "5e94773f",
   "metadata": {},
   "outputs": [],
   "source": [
    "sp500 = fred.get_series(series_id = 'SP500')\n",
    "sp500.plot(figsize=(10, 5), title=\"S&P 500\")"
   ]
  },
  {
   "cell_type": "markdown",
   "id": "371b02a3",
   "metadata": {},
   "source": [
    "## 4. Pull and Join data series"
   ]
  },
  {
   "cell_type": "code",
   "execution_count": null,
   "id": "b0af2290",
   "metadata": {},
   "outputs": [],
   "source": [
    "unemployment_results = fred.search('unemployment')\n",
    "unemployment_results"
   ]
  },
  {
   "cell_type": "code",
   "execution_count": null,
   "id": "23e326f4",
   "metadata": {},
   "outputs": [],
   "source": [
    "unrate = fred.get_series('UNRATE')\n",
    "unrate"
   ]
  },
  {
   "cell_type": "code",
   "execution_count": null,
   "id": "fb4b04c7",
   "metadata": {},
   "outputs": [],
   "source": [
    "unrate.plot()"
   ]
  },
  {
   "cell_type": "code",
   "execution_count": null,
   "id": "ea673580",
   "metadata": {},
   "outputs": [],
   "source": [
    "unemployment_df = fred.search('unemployment rate state', filter=('frequency', 'Monthly'))\n",
    "unemployment_df = unemployment_df.query('seasonal_adjustment == \"Seasonally Adjusted\" and units == \"Percent\"')\n",
    "unemployment_df = unemployment_df.loc[unemployment_df['title'].str.contains('Unemployment Rate')]\n",
    "unemployment_df\n"
   ]
  },
  {
   "cell_type": "code",
   "execution_count": null,
   "id": "7a9a5c2c",
   "metadata": {},
   "outputs": [],
   "source": [
    "all_results = []\n",
    "\n",
    "for myid in unemployment_df.index:\n",
    "    results = fred.get_series(myid)\n",
    "    results = results.to_frame(name=myid)\n",
    "    all_results.append(results)\n",
    "    time.sleep(0.1) # Don't request to fast and get blocked\n",
    "unemployment_results = pd.concat(all_results, axis=1)"
   ]
  },
  {
   "cell_type": "code",
   "execution_count": null,
   "id": "785b89ce",
   "metadata": {},
   "outputs": [],
   "source": [
    "cols_to_drop = []\n",
    "\n",
    "for i in unemployment_results:\n",
    "    if len(i) > 4:\n",
    "        cols_to_drop.append(i)\n",
    "unemployment_results = unemployment_results.drop(columns = cols_to_drop, axis = 1)"
   ]
  },
  {
   "cell_type": "code",
   "execution_count": null,
   "id": "e5c74fdc",
   "metadata": {},
   "outputs": [],
   "source": [
    "unemployment_states = unemployment_results.copy()\n",
    "unemployment_states = unemployment_states.dropna()\n",
    "id_to_state = unemployment_df['title'].str.replace('Unemployment Rate in ','').to_dict()\n",
    "unemployment_states.columns = [id_to_state[c] for c in unemployment_states.columns]"
   ]
  },
  {
   "cell_type": "code",
   "execution_count": null,
   "id": "9e4c59e9",
   "metadata": {},
   "outputs": [],
   "source": [
    "px.line(unemployment_states)"
   ]
  },
  {
   "cell_type": "markdown",
   "id": "971d10b0",
   "metadata": {},
   "source": [
    "## Pull April 2023 Unemployment Rate Per State"
   ]
  },
  {
   "cell_type": "code",
   "execution_count": null,
   "id": "0b37760f",
   "metadata": {},
   "outputs": [],
   "source": [
    "ax = unemployment_states.loc[unemployment_states.index == '2023-04-01'].T \\\n",
    "    .sort_values('2023-04-01') \\\n",
    "    .plot(kind='barh', figsize=(8,12), width=0.7, edgecolor='black',\n",
    "         title='Unemployment Rate by State, April 2023')\n",
    "ax.legend().remove()\n",
    "ax.set_xlabel('% Unemployed')\n",
    "plt.show()"
   ]
  },
  {
   "cell_type": "markdown",
   "id": "97c897b2",
   "metadata": {},
   "source": [
    "## Pull Participation Rate"
   ]
  },
  {
   "cell_type": "code",
   "execution_count": null,
   "id": "89d90b37",
   "metadata": {},
   "outputs": [],
   "source": [
    "participation_df = fred.search('participation rate state', filter=('frequency', 'Monthly'))\n",
    "participation_df = participation_df.query('seasonal_adjustment == \"Seasonally Adjusted\" and units == \"Percent\"')"
   ]
  },
  {
   "cell_type": "code",
   "execution_count": null,
   "id": "b28ecb82",
   "metadata": {},
   "outputs": [],
   "source": [
    "participation_id_to_state = participation_df['title'].str.replace('Labor Force Participation Rate for ','').to_dict()\n",
    "\n",
    "all_results = []\n",
    "\n",
    "for myid in participation_df.index:\n",
    "    results = fred.get_series(myid)\n",
    "    results = results.to_frame(name=myid)\n",
    "    all_results.append(results)\n",
    "    time.sleep(0.1)\n",
    "participation_states = pd.concat(all_results, axis=1)\n",
    "participation_states.columns = [participation_id_to_state[c] for c in participation_states.columns]"
   ]
  },
  {
   "cell_type": "markdown",
   "id": "6f65879d",
   "metadata": {},
   "source": [
    "## Plot Unemployment vs Participation for each state"
   ]
  },
  {
   "cell_type": "code",
   "execution_count": null,
   "id": "809b8d69",
   "metadata": {},
   "outputs": [],
   "source": [
    "# fix DC\n",
    "unemployment_states = unemployment_states.rename(columns = {'the District of Columbia':'District of Columbia'})"
   ]
  },
  {
   "cell_type": "code",
   "execution_count": null,
   "id": "63577665",
   "metadata": {},
   "outputs": [],
   "source": [
    "fig, axs = plt.subplots(10, 5, figsize=(30,30), sharex=True)\n",
    "axs = axs.flatten()\n",
    "\n",
    "i = 0\n",
    "for state in unemployment_states.columns:\n",
    "    if state in [\"District of Columbia\", \"Puerto Rico\"]:\n",
    "        continue\n",
    "    ax2 = axs[i].twinx()\n",
    "    unemployment_states.query('index >= 2020 and index <= 2023')[state] \\\n",
    "        .plot(ax=axs[i], label='Unemployment')\n",
    "    participation_states.query('index >= 2020 and index <= 2023')[state] \\\n",
    "        .plot(ax=ax2, label='Participation', color = color_pal[1])\n",
    "    ax2.grid(False)\n",
    "    axs[i].set_title(state)\n",
    "    i += 1\n",
    "plt.tight_layout()\n",
    "plt.show()\n"
   ]
  },
  {
   "cell_type": "code",
   "execution_count": null,
   "id": "64a38eaf",
   "metadata": {},
   "outputs": [],
   "source": [
    "state = 'Texas'\n",
    "fig, ax = plt.subplots(figsize=(10, 5), sharex=True)\n",
    "ax2 = ax.twinx()\n",
    "unemployment_states2 = unemployment_states.asfreq('MS')\n",
    "l1 = unemployment_states2.query('index >= 2020 and index <= 2023')[state] \\\n",
    "        .plot(ax=ax, label='Unemployment')\n",
    "l2 = participation_states.dropna().query('index >= 2020 and index <= 2023')[state] \\\n",
    "        .plot(ax=ax2, label='Participation', color=color_pal[1])\n",
    "ax2.grid(False)\n",
    "ax.set_title(state)\n",
    "fig.legend(labels=['Unemployment', 'Participation'])\n",
    "plt.show()"
   ]
  },
  {
   "cell_type": "code",
   "execution_count": null,
   "id": "cb51182c",
   "metadata": {},
   "outputs": [],
   "source": []
  }
 ],
 "metadata": {
  "hide_input": false,
  "kernelspec": {
   "display_name": "Python 3 (ipykernel)",
   "language": "python",
   "name": "python3"
  },
  "language_info": {
   "codemirror_mode": {
    "name": "ipython",
    "version": 3
   },
   "file_extension": ".py",
   "mimetype": "text/x-python",
   "name": "python",
   "nbconvert_exporter": "python",
   "pygments_lexer": "ipython3",
   "version": "3.9.7"
  }
 },
 "nbformat": 4,
 "nbformat_minor": 5
}
